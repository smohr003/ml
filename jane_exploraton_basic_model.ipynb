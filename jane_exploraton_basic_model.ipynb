{
 "cells": [
  {
   "cell_type": "markdown",
   "metadata": {},
   "source": [
    "# INTRODUCTION\n",
    "* Electronic commerce allows thousands of transactions to occur in less than a second, resulting in virtually unlimited opportunities to potentially find and exploit price differences in real time.\n",
    "It's time to seize the opportunity Jane Street offers to develop their own trading models and machine learning solutions to identify profitable opportunities and quickly decide whether to trade or not! Let's start.\n"
   ]
  },
  {
   "cell_type": "code",
   "execution_count": 2,
   "metadata": {
    "_cell_guid": "b1076dfc-b9ad-4769-8c92-a6c4dae69d19",
    "_uuid": "8f2839f25d086af736a60e9eeb907d3b93b6e0e5"
   },
   "outputs": [],
   "source": [
    "import numpy as np \n",
    "import pandas as pd \n",
    "import matplotlib.pyplot as plt\n",
    "import seaborn as sns\n",
    "import matplotlib # _venn as venn\n",
    "%matplotlib inline\n",
    "\n",
    "##\n",
    "# import plotly.offline as py\n",
    "# py.init_notebook_mode(connected=True)\n",
    "# import plotly.tools as tls\n",
    "# from plotly.subplots import make_subplots\n",
    "\n",
    "# import plotly.express as px\n",
    "# import plotly.graph_objects as go\n",
    "# from plotly.offline import init_notebook_mode, iplot\n",
    "# from IPython.display import HTML, Image\n"
   ]
  },
  {
   "cell_type": "markdown",
   "metadata": {},
   "source": [
    "<a id=\"3\"></a>\n",
    "# train.csv"
   ]
  },
  {
   "cell_type": "code",
   "execution_count": 3,
   "metadata": {},
   "outputs": [
    {
     "data": {
      "text/html": [
       "<div>\n",
       "<style scoped>\n",
       "    .dataframe tbody tr th:only-of-type {\n",
       "        vertical-align: middle;\n",
       "    }\n",
       "\n",
       "    .dataframe tbody tr th {\n",
       "        vertical-align: top;\n",
       "    }\n",
       "\n",
       "    .dataframe thead th {\n",
       "        text-align: right;\n",
       "    }\n",
       "</style>\n",
       "<table border=\"1\" class=\"dataframe\">\n",
       "  <thead>\n",
       "    <tr style=\"text-align: right;\">\n",
       "      <th></th>\n",
       "      <th>date</th>\n",
       "      <th>weight</th>\n",
       "      <th>resp_1</th>\n",
       "      <th>resp_2</th>\n",
       "      <th>resp_3</th>\n",
       "      <th>resp_4</th>\n",
       "      <th>resp</th>\n",
       "      <th>feature_0</th>\n",
       "      <th>feature_1</th>\n",
       "      <th>feature_2</th>\n",
       "      <th>...</th>\n",
       "      <th>feature_121</th>\n",
       "      <th>feature_122</th>\n",
       "      <th>feature_123</th>\n",
       "      <th>feature_124</th>\n",
       "      <th>feature_125</th>\n",
       "      <th>feature_126</th>\n",
       "      <th>feature_127</th>\n",
       "      <th>feature_128</th>\n",
       "      <th>feature_129</th>\n",
       "      <th>ts_id</th>\n",
       "    </tr>\n",
       "  </thead>\n",
       "  <tbody>\n",
       "    <tr>\n",
       "      <th>0</th>\n",
       "      <td>0</td>\n",
       "      <td>0.000000</td>\n",
       "      <td>0.009916</td>\n",
       "      <td>0.014079</td>\n",
       "      <td>0.008773</td>\n",
       "      <td>0.001390</td>\n",
       "      <td>0.006270</td>\n",
       "      <td>1</td>\n",
       "      <td>-1.872746</td>\n",
       "      <td>-2.191242</td>\n",
       "      <td>...</td>\n",
       "      <td>NaN</td>\n",
       "      <td>1.168391</td>\n",
       "      <td>8.313583</td>\n",
       "      <td>1.782433</td>\n",
       "      <td>14.018213</td>\n",
       "      <td>2.653056</td>\n",
       "      <td>12.600292</td>\n",
       "      <td>2.301488</td>\n",
       "      <td>11.445807</td>\n",
       "      <td>0</td>\n",
       "    </tr>\n",
       "    <tr>\n",
       "      <th>1</th>\n",
       "      <td>0</td>\n",
       "      <td>16.673515</td>\n",
       "      <td>-0.002828</td>\n",
       "      <td>-0.003226</td>\n",
       "      <td>-0.007319</td>\n",
       "      <td>-0.011114</td>\n",
       "      <td>-0.009792</td>\n",
       "      <td>-1</td>\n",
       "      <td>-1.349537</td>\n",
       "      <td>-1.704709</td>\n",
       "      <td>...</td>\n",
       "      <td>NaN</td>\n",
       "      <td>-1.178850</td>\n",
       "      <td>1.777472</td>\n",
       "      <td>-0.915458</td>\n",
       "      <td>2.831612</td>\n",
       "      <td>-1.417010</td>\n",
       "      <td>2.297459</td>\n",
       "      <td>-1.304614</td>\n",
       "      <td>1.898684</td>\n",
       "      <td>1</td>\n",
       "    </tr>\n",
       "    <tr>\n",
       "      <th>2</th>\n",
       "      <td>0</td>\n",
       "      <td>0.000000</td>\n",
       "      <td>0.025134</td>\n",
       "      <td>0.027607</td>\n",
       "      <td>0.033406</td>\n",
       "      <td>0.034380</td>\n",
       "      <td>0.023970</td>\n",
       "      <td>-1</td>\n",
       "      <td>0.812780</td>\n",
       "      <td>-0.256156</td>\n",
       "      <td>...</td>\n",
       "      <td>NaN</td>\n",
       "      <td>6.115747</td>\n",
       "      <td>9.667908</td>\n",
       "      <td>5.542871</td>\n",
       "      <td>11.671595</td>\n",
       "      <td>7.281757</td>\n",
       "      <td>10.060014</td>\n",
       "      <td>6.638248</td>\n",
       "      <td>9.427299</td>\n",
       "      <td>2</td>\n",
       "    </tr>\n",
       "    <tr>\n",
       "      <th>3</th>\n",
       "      <td>0</td>\n",
       "      <td>0.000000</td>\n",
       "      <td>-0.004730</td>\n",
       "      <td>-0.003273</td>\n",
       "      <td>-0.000461</td>\n",
       "      <td>-0.000476</td>\n",
       "      <td>-0.003200</td>\n",
       "      <td>-1</td>\n",
       "      <td>1.174378</td>\n",
       "      <td>0.344640</td>\n",
       "      <td>...</td>\n",
       "      <td>NaN</td>\n",
       "      <td>2.838853</td>\n",
       "      <td>0.499251</td>\n",
       "      <td>3.033732</td>\n",
       "      <td>1.513488</td>\n",
       "      <td>4.397532</td>\n",
       "      <td>1.266037</td>\n",
       "      <td>3.856384</td>\n",
       "      <td>1.013469</td>\n",
       "      <td>3</td>\n",
       "    </tr>\n",
       "    <tr>\n",
       "      <th>4</th>\n",
       "      <td>0</td>\n",
       "      <td>0.138531</td>\n",
       "      <td>0.001252</td>\n",
       "      <td>0.002165</td>\n",
       "      <td>-0.001215</td>\n",
       "      <td>-0.006219</td>\n",
       "      <td>-0.002604</td>\n",
       "      <td>1</td>\n",
       "      <td>-3.172026</td>\n",
       "      <td>-3.093182</td>\n",
       "      <td>...</td>\n",
       "      <td>NaN</td>\n",
       "      <td>0.344850</td>\n",
       "      <td>4.101145</td>\n",
       "      <td>0.614252</td>\n",
       "      <td>6.623456</td>\n",
       "      <td>0.800129</td>\n",
       "      <td>5.233243</td>\n",
       "      <td>0.362636</td>\n",
       "      <td>3.926633</td>\n",
       "      <td>4</td>\n",
       "    </tr>\n",
       "  </tbody>\n",
       "</table>\n",
       "<p>5 rows × 138 columns</p>\n",
       "</div>"
      ],
      "text/plain": [
       "   date     weight    resp_1    resp_2    resp_3    resp_4      resp  \\\n",
       "0     0   0.000000  0.009916  0.014079  0.008773  0.001390  0.006270   \n",
       "1     0  16.673515 -0.002828 -0.003226 -0.007319 -0.011114 -0.009792   \n",
       "2     0   0.000000  0.025134  0.027607  0.033406  0.034380  0.023970   \n",
       "3     0   0.000000 -0.004730 -0.003273 -0.000461 -0.000476 -0.003200   \n",
       "4     0   0.138531  0.001252  0.002165 -0.001215 -0.006219 -0.002604   \n",
       "\n",
       "   feature_0  feature_1  feature_2  ...  feature_121  feature_122  \\\n",
       "0          1  -1.872746  -2.191242  ...          NaN     1.168391   \n",
       "1         -1  -1.349537  -1.704709  ...          NaN    -1.178850   \n",
       "2         -1   0.812780  -0.256156  ...          NaN     6.115747   \n",
       "3         -1   1.174378   0.344640  ...          NaN     2.838853   \n",
       "4          1  -3.172026  -3.093182  ...          NaN     0.344850   \n",
       "\n",
       "   feature_123  feature_124  feature_125  feature_126  feature_127  \\\n",
       "0     8.313583     1.782433    14.018213     2.653056    12.600292   \n",
       "1     1.777472    -0.915458     2.831612    -1.417010     2.297459   \n",
       "2     9.667908     5.542871    11.671595     7.281757    10.060014   \n",
       "3     0.499251     3.033732     1.513488     4.397532     1.266037   \n",
       "4     4.101145     0.614252     6.623456     0.800129     5.233243   \n",
       "\n",
       "   feature_128  feature_129  ts_id  \n",
       "0     2.301488    11.445807      0  \n",
       "1    -1.304614     1.898684      1  \n",
       "2     6.638248     9.427299      2  \n",
       "3     3.856384     1.013469      3  \n",
       "4     0.362636     3.926633      4  \n",
       "\n",
       "[5 rows x 138 columns]"
      ]
     },
     "execution_count": 3,
     "metadata": {},
     "output_type": "execute_result"
    }
   ],
   "source": [
    "train = pd.read_csv(\"../input/jane-street-market-prediction/train.csv.zip\")\n",
    "train.head()"
   ]
  },
  {
   "cell_type": "code",
   "execution_count": 4,
   "metadata": {},
   "outputs": [
    {
     "data": {
      "text/plain": [
       "((2390491, 138),\n",
       " count    2.390491e+06\n",
       " mean     4.083113e-04\n",
       " std      2.693609e-02\n",
       " min     -5.493845e-01\n",
       " 25%     -7.157903e-03\n",
       " 50%      8.634997e-05\n",
       " 75%      7.544347e-03\n",
       " max      4.484616e-01\n",
       " Name: resp, dtype: float64)"
      ]
     },
     "execution_count": 4,
     "metadata": {},
     "output_type": "execute_result"
    }
   ],
   "source": [
    "train.shape, train['resp'].describe()"
   ]
  },
  {
   "cell_type": "code",
   "execution_count": 5,
   "metadata": {},
   "outputs": [
    {
     "data": {
      "text/plain": [
       "<AxesSubplot:>"
      ]
     },
     "execution_count": 5,
     "metadata": {},
     "output_type": "execute_result"
    },
    {
     "data": {
      "image/png": "[encoded data removed]",
      "text/plain": [
       "<Figure size 432x288 with 1 Axes>"
      ]
     },
     "metadata": {
      "needs_background": "light"
     },
     "output_type": "display_data"
    }
   ],
   "source": [
    "train['resp'].hist()"
   ]
  },
  {
   "cell_type": "code",
   "execution_count": 6,
   "metadata": {},
   "outputs": [
    {
     "data": {
      "text/plain": [
       "69854"
      ]
     },
     "execution_count": 6,
     "metadata": {},
     "output_type": "execute_result"
    }
   ],
   "source": [
    "train['feature_121'].isna().sum()"
   ]
  },
  {
   "cell_type": "code",
   "execution_count": 7,
   "metadata": {},
   "outputs": [
    {
     "data": {
      "text/plain": [
       "count    2.320637e+06\n",
       "mean     2.687757e-01\n",
       "std      2.174238e+00\n",
       "min     -7.471971e+00\n",
       "25%     -1.123252e+00\n",
       "50%      0.000000e+00\n",
       "75%      1.342829e+00\n",
       "max      1.107771e+02\n",
       "Name: feature_121, dtype: float64"
      ]
     },
     "execution_count": 7,
     "metadata": {},
     "output_type": "execute_result"
    }
   ],
   "source": [
    "train['feature_121'].describe()"
   ]
  },
  {
   "cell_type": "code",
   "execution_count": 8,
   "metadata": {},
   "outputs": [],
   "source": [
    "def calc_pdf_cdf(df, col_name): \n",
    "    # Get the frequency, PDF and CDF for each value in the series\n",
    "\n",
    "    # Frequency\n",
    "    stats_df = df \\\n",
    "    .groupby(col_name) \\\n",
    "    [col_name] \\\n",
    "    .agg('count') \\\n",
    "    .pipe(pd.DataFrame) \\\n",
    "    .rename(columns = {col_name: 'frequency'})\n",
    "\n",
    "    # PDF\n",
    "    stats_df['pdf'] = stats_df['frequency'] / sum(stats_df['frequency'])\n",
    "\n",
    "    # CDF\n",
    "    stats_df['cdf'] = stats_df['pdf'].cumsum()\n",
    "    stats_df = stats_df.reset_index()\n",
    "    return stats_df"
   ]
  },
  {
   "cell_type": "code",
   "execution_count": 9,
   "metadata": {},
   "outputs": [
    {
     "data": {
      "text/plain": [
       "<AxesSubplot:xlabel='resp'>"
      ]
     },
     "execution_count": 9,
     "metadata": {},
     "output_type": "execute_result"
    },
    {
     "data": {
      "image/png": "[encoded data removed]",
      "text/plain": [
       "<Figure size 432x288 with 1 Axes>"
      ]
     },
     "metadata": {
      "needs_background": "light"
     },
     "output_type": "display_data"
    }
   ],
   "source": [
    "col_name = 'resp' \n",
    "stats_df = calc_pdf_cdf(train, col_name)\n",
    "#stats_df.plot.bar(x = 'resp', y = ['pdf', 'cdf'], grid = True) # for discerete dist. \n",
    "stats_df.plot(x = col_name, y = ['pdf', 'cdf'], grid = True) # for continous dist.\n"
   ]
  },
  {
   "cell_type": "code",
   "execution_count": 10,
   "metadata": {},
   "outputs": [
    {
     "data": {
      "text/html": [
       "<div>\n",
       "<style scoped>\n",
       "    .dataframe tbody tr th:only-of-type {\n",
       "        vertical-align: middle;\n",
       "    }\n",
       "\n",
       "    .dataframe tbody tr th {\n",
       "        vertical-align: top;\n",
       "    }\n",
       "\n",
       "    .dataframe thead th {\n",
       "        text-align: right;\n",
       "    }\n",
       "</style>\n",
       "<table border=\"1\" class=\"dataframe\">\n",
       "  <thead>\n",
       "    <tr style=\"text-align: right;\">\n",
       "      <th></th>\n",
       "      <th>resp</th>\n",
       "      <th>frequency</th>\n",
       "      <th>pdf</th>\n",
       "      <th>cdf</th>\n",
       "    </tr>\n",
       "  </thead>\n",
       "  <tbody>\n",
       "    <tr>\n",
       "      <th>0</th>\n",
       "      <td>-0.549384</td>\n",
       "      <td>1</td>\n",
       "      <td>4.183241e-07</td>\n",
       "      <td>4.183241e-07</td>\n",
       "    </tr>\n",
       "    <tr>\n",
       "      <th>1</th>\n",
       "      <td>-0.483941</td>\n",
       "      <td>1</td>\n",
       "      <td>4.183241e-07</td>\n",
       "      <td>8.366482e-07</td>\n",
       "    </tr>\n",
       "    <tr>\n",
       "      <th>2</th>\n",
       "      <td>-0.482720</td>\n",
       "      <td>1</td>\n",
       "      <td>4.183241e-07</td>\n",
       "      <td>1.254972e-06</td>\n",
       "    </tr>\n",
       "    <tr>\n",
       "      <th>3</th>\n",
       "      <td>-0.461727</td>\n",
       "      <td>1</td>\n",
       "      <td>4.183241e-07</td>\n",
       "      <td>1.673296e-06</td>\n",
       "    </tr>\n",
       "    <tr>\n",
       "      <th>4</th>\n",
       "      <td>-0.456155</td>\n",
       "      <td>1</td>\n",
       "      <td>4.183241e-07</td>\n",
       "      <td>2.091621e-06</td>\n",
       "    </tr>\n",
       "    <tr>\n",
       "      <th>...</th>\n",
       "      <td>...</td>\n",
       "      <td>...</td>\n",
       "      <td>...</td>\n",
       "      <td>...</td>\n",
       "    </tr>\n",
       "    <tr>\n",
       "      <th>95</th>\n",
       "      <td>-0.317754</td>\n",
       "      <td>1</td>\n",
       "      <td>4.183241e-07</td>\n",
       "      <td>4.015911e-05</td>\n",
       "    </tr>\n",
       "    <tr>\n",
       "      <th>96</th>\n",
       "      <td>-0.317590</td>\n",
       "      <td>1</td>\n",
       "      <td>4.183241e-07</td>\n",
       "      <td>4.057744e-05</td>\n",
       "    </tr>\n",
       "    <tr>\n",
       "      <th>97</th>\n",
       "      <td>-0.317026</td>\n",
       "      <td>1</td>\n",
       "      <td>4.183241e-07</td>\n",
       "      <td>4.099576e-05</td>\n",
       "    </tr>\n",
       "    <tr>\n",
       "      <th>98</th>\n",
       "      <td>-0.316751</td>\n",
       "      <td>1</td>\n",
       "      <td>4.183241e-07</td>\n",
       "      <td>4.141409e-05</td>\n",
       "    </tr>\n",
       "    <tr>\n",
       "      <th>99</th>\n",
       "      <td>-0.316730</td>\n",
       "      <td>1</td>\n",
       "      <td>4.183241e-07</td>\n",
       "      <td>4.183241e-05</td>\n",
       "    </tr>\n",
       "  </tbody>\n",
       "</table>\n",
       "<p>100 rows × 4 columns</p>\n",
       "</div>"
      ],
      "text/plain": [
       "        resp  frequency           pdf           cdf\n",
       "0  -0.549384          1  4.183241e-07  4.183241e-07\n",
       "1  -0.483941          1  4.183241e-07  8.366482e-07\n",
       "2  -0.482720          1  4.183241e-07  1.254972e-06\n",
       "3  -0.461727          1  4.183241e-07  1.673296e-06\n",
       "4  -0.456155          1  4.183241e-07  2.091621e-06\n",
       "..       ...        ...           ...           ...\n",
       "95 -0.317754          1  4.183241e-07  4.015911e-05\n",
       "96 -0.317590          1  4.183241e-07  4.057744e-05\n",
       "97 -0.317026          1  4.183241e-07  4.099576e-05\n",
       "98 -0.316751          1  4.183241e-07  4.141409e-05\n",
       "99 -0.316730          1  4.183241e-07  4.183241e-05\n",
       "\n",
       "[100 rows x 4 columns]"
      ]
     },
     "execution_count": 10,
     "metadata": {},
     "output_type": "execute_result"
    }
   ],
   "source": [
    "stats_df.head(100)"
   ]
  },
  {
   "cell_type": "code",
   "execution_count": 11,
   "metadata": {},
   "outputs": [],
   "source": [
    "df = pd.DataFrame({'A': [10, 1, 2, 2],\n",
    "...                    'B': [1, 2, 3, 4],\n",
    "...                    'C': np.random.randn(4)})"
   ]
  },
  {
   "cell_type": "code",
   "execution_count": 12,
   "metadata": {},
   "outputs": [
    {
     "data": {
      "text/html": [
       "<div>\n",
       "<style scoped>\n",
       "    .dataframe tbody tr th:only-of-type {\n",
       "        vertical-align: middle;\n",
       "    }\n",
       "\n",
       "    .dataframe tbody tr th {\n",
       "        vertical-align: top;\n",
       "    }\n",
       "\n",
       "    .dataframe thead th {\n",
       "        text-align: right;\n",
       "    }\n",
       "</style>\n",
       "<table border=\"1\" class=\"dataframe\">\n",
       "  <thead>\n",
       "    <tr style=\"text-align: right;\">\n",
       "      <th></th>\n",
       "      <th>B</th>\n",
       "      <th>C</th>\n",
       "    </tr>\n",
       "    <tr>\n",
       "      <th>A</th>\n",
       "      <th></th>\n",
       "      <th></th>\n",
       "    </tr>\n",
       "  </thead>\n",
       "  <tbody>\n",
       "    <tr>\n",
       "      <th>1</th>\n",
       "      <td>2</td>\n",
       "      <td>-0.129905</td>\n",
       "    </tr>\n",
       "    <tr>\n",
       "      <th>2</th>\n",
       "      <td>3</td>\n",
       "      <td>-2.824875</td>\n",
       "    </tr>\n",
       "    <tr>\n",
       "      <th>10</th>\n",
       "      <td>1</td>\n",
       "      <td>-0.423000</td>\n",
       "    </tr>\n",
       "  </tbody>\n",
       "</table>\n",
       "</div>"
      ],
      "text/plain": [
       "    B         C\n",
       "A              \n",
       "1   2 -0.129905\n",
       "2   3 -2.824875\n",
       "10  1 -0.423000"
      ]
     },
     "execution_count": 12,
     "metadata": {},
     "output_type": "execute_result"
    }
   ],
   "source": [
    "df.groupby('A').agg('min')"
   ]
  },
  {
   "cell_type": "code",
   "execution_count": null,
   "metadata": {},
   "outputs": [],
   "source": []
  },
  {
   "cell_type": "code",
   "execution_count": 13,
   "metadata": {},
   "outputs": [
    {
     "data": {
      "text/plain": [
       "<AxesSubplot:xlabel='feature_121'>"
      ]
     },
     "execution_count": 13,
     "metadata": {},
     "output_type": "execute_result"
    },
    {
     "data": {
      "image/png": "[encoded data removed]",
      "text/plain": [
       "<Figure size 432x288 with 1 Axes>"
      ]
     },
     "metadata": {
      "needs_background": "light"
     },
     "output_type": "display_data"
    }
   ],
   "source": [
    "col_name = 'feature_121'\n",
    "stats_df = calc_pdf_cdf(train, col_name)\n",
    "#stats_df.plot.bar(x = 'resp', y = ['pdf', 'cdf'], grid = True) # for discerete dist. \n",
    "stats_df.plot(x = col_name, y = ['pdf', 'cdf'], grid = True) # for continous dist."
   ]
  },
  {
   "cell_type": "code",
   "execution_count": 14,
   "metadata": {},
   "outputs": [],
   "source": [
    "#corr = train[['feature_121', 'resp_1', 'resp_2', 'resp_3', 'resp_4', 'resp']].corr()\n",
    "corr = train[['feature_120', 'feature_119', 'feature_118', 'resp']].corr()"
   ]
  },
  {
   "cell_type": "code",
   "execution_count": 15,
   "metadata": {},
   "outputs": [
    {
     "data": {
      "text/plain": [
       "<AxesSubplot:>"
      ]
     },
     "execution_count": 15,
     "metadata": {},
     "output_type": "execute_result"
    },
    {
     "data": {
      "image/png": "[encoded data removed]",
      "text/plain": [
       "<Figure size 432x288 with 2 Axes>"
      ]
     },
     "metadata": {
      "needs_background": "light"
     },
     "output_type": "display_data"
    }
   ],
   "source": [
    "import seaborn as sns\n",
    "sns.heatmap(corr)"
   ]
  },
  {
   "cell_type": "code",
   "execution_count": 16,
   "metadata": {},
   "outputs": [
    {
     "data": {
      "text/plain": [
       "<matplotlib.collections.PathCollection at 0x7f9c70db2850>"
      ]
     },
     "execution_count": 16,
     "metadata": {},
     "output_type": "execute_result"
    },
    {
     "data": {
      "image/png": "[encoded data removed]",
      "text/plain": [
       "<Figure size 432x288 with 1 Axes>"
      ]
     },
     "metadata": {
      "needs_background": "light"
     },
     "output_type": "display_data"
    }
   ],
   "source": [
    "plt.scatter(train['feature_118'], train['feature_120'])"
   ]
  },
  {
   "cell_type": "code",
   "execution_count": 72,
   "metadata": {},
   "outputs": [
    {
     "data": {
      "text/html": [
       "<div>\n",
       "<style scoped>\n",
       "    .dataframe tbody tr th:only-of-type {\n",
       "        vertical-align: middle;\n",
       "    }\n",
       "\n",
       "    .dataframe tbody tr th {\n",
       "        vertical-align: top;\n",
       "    }\n",
       "\n",
       "    .dataframe thead th {\n",
       "        text-align: right;\n",
       "    }\n",
       "</style>\n",
       "<table border=\"1\" class=\"dataframe\">\n",
       "  <thead>\n",
       "    <tr style=\"text-align: right;\">\n",
       "      <th></th>\n",
       "      <th>feature_name</th>\n",
       "      <th>count</th>\n",
       "    </tr>\n",
       "  </thead>\n",
       "  <tbody>\n",
       "    <tr>\n",
       "      <th>10</th>\n",
       "      <td>feature_3</td>\n",
       "      <td>448</td>\n",
       "    </tr>\n",
       "    <tr>\n",
       "      <th>11</th>\n",
       "      <td>feature_4</td>\n",
       "      <td>448</td>\n",
       "    </tr>\n",
       "    <tr>\n",
       "      <th>14</th>\n",
       "      <td>feature_7</td>\n",
       "      <td>393135</td>\n",
       "    </tr>\n",
       "    <tr>\n",
       "      <th>15</th>\n",
       "      <td>feature_8</td>\n",
       "      <td>393135</td>\n",
       "    </tr>\n",
       "    <tr>\n",
       "      <th>16</th>\n",
       "      <td>feature_9</td>\n",
       "      <td>788</td>\n",
       "    </tr>\n",
       "    <tr>\n",
       "      <th>17</th>\n",
       "      <td>feature_10</td>\n",
       "      <td>788</td>\n",
       "    </tr>\n",
       "    <tr>\n",
       "      <th>18</th>\n",
       "      <td>feature_11</td>\n",
       "      <td>80015</td>\n",
       "    </tr>\n",
       "    <tr>\n",
       "      <th>19</th>\n",
       "      <td>feature_12</td>\n",
       "      <td>80015</td>\n",
       "    </tr>\n",
       "    <tr>\n",
       "      <th>20</th>\n",
       "      <td>feature_13</td>\n",
       "      <td>15353</td>\n",
       "    </tr>\n",
       "    <tr>\n",
       "      <th>21</th>\n",
       "      <td>feature_14</td>\n",
       "      <td>15353</td>\n",
       "    </tr>\n",
       "  </tbody>\n",
       "</table>\n",
       "</div>"
      ],
      "text/plain": [
       "   feature_name   count\n",
       "10    feature_3     448\n",
       "11    feature_4     448\n",
       "14    feature_7  393135\n",
       "15    feature_8  393135\n",
       "16    feature_9     788\n",
       "17   feature_10     788\n",
       "18   feature_11   80015\n",
       "19   feature_12   80015\n",
       "20   feature_13   15353\n",
       "21   feature_14   15353"
      ]
     },
     "execution_count": 72,
     "metadata": {},
     "output_type": "execute_result"
    }
   ],
   "source": [
    "def get_na_stat(df): \n",
    "    na_stat = df.isna().sum().to_frame(name='count').rename_axis('feature_name').reset_index(col_fill='fname')\n",
    "    na_stat = na_stat[na_stat['count']>0]\n",
    "    return na_stat\n",
    "na_stat = get_na_stat(train)\n",
    "na_stat.head(10)"
   ]
  },
  {
   "cell_type": "code",
   "execution_count": 40,
   "metadata": {},
   "outputs": [
    {
     "data": {
      "text/plain": [
       "[<matplotlib.lines.Line2D at 0x7f9c69df97f0>]"
      ]
     },
     "execution_count": 40,
     "metadata": {},
     "output_type": "execute_result"
    },
    {
     "data": {
      "image/png": "[encoded data removed]",
      "text/plain": [
       "<Figure size 432x288 with 1 Axes>"
      ]
     },
     "metadata": {
      "needs_background": "light"
     },
     "output_type": "display_data"
    }
   ],
   "source": [
    "plt.plot(na_stat['count'])"
   ]
  },
  {
   "cell_type": "code",
   "execution_count": 18,
   "metadata": {},
   "outputs": [
    {
     "data": {
      "text/plain": [
       "(array([4.000000e+00, 1.000000e+00, 2.700000e+01, 5.250000e+02,\n",
       "        1.909177e+06, 4.649980e+05, 3.880000e+02, 1.200000e+01,\n",
       "        0.000000e+00, 6.000000e+00]),\n",
       " array([-87.53178705, -69.6929659 , -51.85414474, -34.01532359,\n",
       "        -16.17650244,   1.66231872,  19.50113987,  37.33996103,\n",
       "         55.17878218,  73.01760334,  90.85642449]),\n",
       " <BarContainer object of 10 artists>)"
      ]
     },
     "execution_count": 18,
     "metadata": {},
     "output_type": "execute_result"
    },
    {
     "data": {
      "image/png": "[encoded data removed]",
      "text/plain": [
       "<Figure size 432x288 with 1 Axes>"
      ]
     },
     "metadata": {
      "needs_background": "light"
     },
     "output_type": "display_data"
    }
   ],
   "source": [
    "plt.hist(train['feature_13'])"
   ]
  },
  {
   "cell_type": "code",
   "execution_count": 165,
   "metadata": {},
   "outputs": [],
   "source": [
    "y = train['resp'] #.apply(lambda x : int(x>0))\n",
    "X = train.drop(['date', 'resp_1', 'resp_2', 'resp_3', 'resp_4', 'resp', 'ts_id'], axis=1, inplace=False)\n"
   ]
  },
  {
   "cell_type": "code",
   "execution_count": 168,
   "metadata": {},
   "outputs": [],
   "source": [
    "X.fillna(0, inplace=True)"
   ]
  },
  {
   "cell_type": "code",
   "execution_count": 138,
   "metadata": {},
   "outputs": [],
   "source": [
    "# cols = X.columns\n",
    "# from sklearn.impute import SimpleImputer\n",
    "# imp = SimpleImputer()\n",
    "# X = pd.DataFrame(imp.fit_transform(X))\n",
    "# X = pd.DataFrame(X, columns = cols)\n"
   ]
  },
  {
   "cell_type": "code",
   "execution_count": 167,
   "metadata": {},
   "outputs": [
    {
     "data": {
      "text/plain": [
       "131"
      ]
     },
     "execution_count": 167,
     "metadata": {},
     "output_type": "execute_result"
    }
   ],
   "source": [
    "len(X.columns)"
   ]
  },
  {
   "cell_type": "code",
   "execution_count": 140,
   "metadata": {},
   "outputs": [
    {
     "data": {
      "text/html": [
       "<div>\n",
       "<style scoped>\n",
       "    .dataframe tbody tr th:only-of-type {\n",
       "        vertical-align: middle;\n",
       "    }\n",
       "\n",
       "    .dataframe tbody tr th {\n",
       "        vertical-align: top;\n",
       "    }\n",
       "\n",
       "    .dataframe thead th {\n",
       "        text-align: right;\n",
       "    }\n",
       "</style>\n",
       "<table border=\"1\" class=\"dataframe\">\n",
       "  <thead>\n",
       "    <tr style=\"text-align: right;\">\n",
       "      <th></th>\n",
       "      <th>feature_name</th>\n",
       "      <th>count</th>\n",
       "    </tr>\n",
       "  </thead>\n",
       "  <tbody>\n",
       "    <tr>\n",
       "      <th>4</th>\n",
       "      <td>feature_3</td>\n",
       "      <td>448</td>\n",
       "    </tr>\n",
       "    <tr>\n",
       "      <th>5</th>\n",
       "      <td>feature_4</td>\n",
       "      <td>448</td>\n",
       "    </tr>\n",
       "    <tr>\n",
       "      <th>8</th>\n",
       "      <td>feature_7</td>\n",
       "      <td>393135</td>\n",
       "    </tr>\n",
       "    <tr>\n",
       "      <th>9</th>\n",
       "      <td>feature_8</td>\n",
       "      <td>393135</td>\n",
       "    </tr>\n",
       "    <tr>\n",
       "      <th>10</th>\n",
       "      <td>feature_9</td>\n",
       "      <td>788</td>\n",
       "    </tr>\n",
       "    <tr>\n",
       "      <th>11</th>\n",
       "      <td>feature_10</td>\n",
       "      <td>788</td>\n",
       "    </tr>\n",
       "    <tr>\n",
       "      <th>12</th>\n",
       "      <td>feature_11</td>\n",
       "      <td>80015</td>\n",
       "    </tr>\n",
       "    <tr>\n",
       "      <th>13</th>\n",
       "      <td>feature_12</td>\n",
       "      <td>80015</td>\n",
       "    </tr>\n",
       "    <tr>\n",
       "      <th>14</th>\n",
       "      <td>feature_13</td>\n",
       "      <td>15353</td>\n",
       "    </tr>\n",
       "    <tr>\n",
       "      <th>15</th>\n",
       "      <td>feature_14</td>\n",
       "      <td>15353</td>\n",
       "    </tr>\n",
       "  </tbody>\n",
       "</table>\n",
       "</div>"
      ],
      "text/plain": [
       "   feature_name   count\n",
       "4     feature_3     448\n",
       "5     feature_4     448\n",
       "8     feature_7  393135\n",
       "9     feature_8  393135\n",
       "10    feature_9     788\n",
       "11   feature_10     788\n",
       "12   feature_11   80015\n",
       "13   feature_12   80015\n",
       "14   feature_13   15353\n",
       "15   feature_14   15353"
      ]
     },
     "execution_count": 140,
     "metadata": {},
     "output_type": "execute_result"
    }
   ],
   "source": [
    "na_stat = get_na_stat(X)\n",
    "na_stat.head(10)"
   ]
  },
  {
   "cell_type": "code",
   "execution_count": 3,
   "metadata": {},
   "outputs": [],
   "source": [
    "from sklearn.decomposition import PCA\n",
    "from sklearn.preprocessing import StandardScaler\n",
    "\n",
    "# Standardizing the features\n",
    "x = StandardScaler().fit_transform(X)\n",
    "\n",
    "pca = PCA(n_components=2)\n",
    "principalComponents = pca.fit_transform(X)\n",
    "principalDf = pd.DataFrame(data = principalComponents, columns = ['pca_1', 'pca_2'])\n"
   ]
  },
  {
   "cell_type": "code",
   "execution_count": null,
   "metadata": {},
   "outputs": [],
   "source": [
    "plt.scatter(principalDf['pca_1'], principalDf['pca_2'])"
   ]
  },
  {
   "cell_type": "code",
   "execution_count": null,
   "metadata": {},
   "outputs": [],
   "source": [
    "plt.scatter(principalDf['pca_1'], train['resp'])"
   ]
  },
  {
   "cell_type": "code",
   "execution_count": null,
   "metadata": {},
   "outputs": [],
   "source": [
    "plt.plot(train['resp'])"
   ]
  },
  {
   "cell_type": "code",
   "execution_count": 143,
   "metadata": {},
   "outputs": [],
   "source": [
    "from sklearn.linear_model import SGDRegressor, SGDClassifier, LogisticRegression, LinearRegression\n",
    "from sklearn.metrics import accuracy_score, r2_score, mean_squared_error, mean_absolute_error"
   ]
  },
  {
   "cell_type": "code",
   "execution_count": 144,
   "metadata": {},
   "outputs": [],
   "source": [
    "y = train['resp']"
   ]
  },
  {
   "cell_type": "code",
   "execution_count": 169,
   "metadata": {},
   "outputs": [],
   "source": [
    "from sklearn.model_selection import train_test_split\n",
    "X_train, X_test, y_train, y_test = train_test_split(X, y, test_size=0.33, random_state=0)"
   ]
  },
  {
   "cell_type": "code",
   "execution_count": 170,
   "metadata": {},
   "outputs": [
    {
     "data": {
      "text/plain": [
       "(1601628, 131)"
      ]
     },
     "execution_count": 170,
     "metadata": {},
     "output_type": "execute_result"
    }
   ],
   "source": [
    "X_train.shape"
   ]
  },
  {
   "cell_type": "code",
   "execution_count": 171,
   "metadata": {},
   "outputs": [],
   "source": [
    "from sklearn.pipeline import make_pipeline\n",
    "clf = LinearRegression()# "
   ]
  },
  {
   "cell_type": "code",
   "execution_count": 172,
   "metadata": {},
   "outputs": [
    {
     "name": "stdout",
     "output_type": "stream",
     "text": [
      "CPU times: user 2min 20s, sys: 35 s, total: 2min 55s\n",
      "Wall time: 20.6 s\n"
     ]
    },
    {
     "data": {
      "text/plain": [
       "LinearRegression()"
      ]
     },
     "execution_count": 172,
     "metadata": {},
     "output_type": "execute_result"
    }
   ],
   "source": [
    "%%time\n",
    "clf.fit(X_train, y_train)"
   ]
  },
  {
   "cell_type": "code",
   "execution_count": 173,
   "metadata": {},
   "outputs": [],
   "source": [
    "y_pred = clf.predict(X_test)"
   ]
  },
  {
   "cell_type": "code",
   "execution_count": 174,
   "metadata": {},
   "outputs": [
    {
     "data": {
      "text/plain": [
       "0.0061941502085202105"
      ]
     },
     "execution_count": 174,
     "metadata": {},
     "output_type": "execute_result"
    }
   ],
   "source": [
    "#accuracy_score(y_test, y_pred)\n",
    "r2_score(y_test, y_pred)"
   ]
  },
  {
   "cell_type": "code",
   "execution_count": 175,
   "metadata": {},
   "outputs": [
    {
     "data": {
      "text/plain": [
       "((788863,), (788863,))"
      ]
     },
     "execution_count": 175,
     "metadata": {},
     "output_type": "execute_result"
    }
   ],
   "source": [
    "y_test.shape, y_pred.shape"
   ]
  },
  {
   "cell_type": "code",
   "execution_count": 176,
   "metadata": {},
   "outputs": [
    {
     "data": {
      "text/plain": [
       "0.0007159249130253004"
      ]
     },
     "execution_count": 176,
     "metadata": {},
     "output_type": "execute_result"
    }
   ],
   "source": [
    "mean_squared_error(y_test, y_pred)"
   ]
  },
  {
   "cell_type": "code",
   "execution_count": 90,
   "metadata": {},
   "outputs": [
    {
     "name": "stdout",
     "output_type": "stream",
     "text": [
      "[1. 1. 1. 1. 1.]\n"
     ]
    }
   ],
   "source": [
    "from sklearn.model_selection import cross_val_score\n",
    "print(cross_val_score(clf, X, y, cv=5))"
   ]
  },
  {
   "cell_type": "code",
   "execution_count": 105,
   "metadata": {},
   "outputs": [
    {
     "data": {
      "text/html": [
       "<div>\n",
       "<style scoped>\n",
       "    .dataframe tbody tr th:only-of-type {\n",
       "        vertical-align: middle;\n",
       "    }\n",
       "\n",
       "    .dataframe tbody tr th {\n",
       "        vertical-align: top;\n",
       "    }\n",
       "\n",
       "    .dataframe thead th {\n",
       "        text-align: right;\n",
       "    }\n",
       "</style>\n",
       "<table border=\"1\" class=\"dataframe\">\n",
       "  <thead>\n",
       "    <tr style=\"text-align: right;\">\n",
       "      <th></th>\n",
       "      <th>0</th>\n",
       "    </tr>\n",
       "  </thead>\n",
       "  <tbody>\n",
       "    <tr>\n",
       "      <th>0</th>\n",
       "      <td>4.860257e+06</td>\n",
       "    </tr>\n",
       "    <tr>\n",
       "      <th>1</th>\n",
       "      <td>6.581540e+02</td>\n",
       "    </tr>\n",
       "    <tr>\n",
       "      <th>2</th>\n",
       "      <td>1.634600e+04</td>\n",
       "    </tr>\n",
       "    <tr>\n",
       "      <th>3</th>\n",
       "      <td>6.173544e+05</td>\n",
       "    </tr>\n",
       "    <tr>\n",
       "      <th>4</th>\n",
       "      <td>5.717748e+05</td>\n",
       "    </tr>\n",
       "    <tr>\n",
       "      <th>...</th>\n",
       "      <td>...</td>\n",
       "    </tr>\n",
       "    <tr>\n",
       "      <th>128</th>\n",
       "      <td>5.425947e+05</td>\n",
       "    </tr>\n",
       "    <tr>\n",
       "      <th>129</th>\n",
       "      <td>3.696474e+05</td>\n",
       "    </tr>\n",
       "    <tr>\n",
       "      <th>130</th>\n",
       "      <td>5.486562e+05</td>\n",
       "    </tr>\n",
       "    <tr>\n",
       "      <th>131</th>\n",
       "      <td>3.916465e+05</td>\n",
       "    </tr>\n",
       "    <tr>\n",
       "      <th>132</th>\n",
       "      <td>1.913598e+12</td>\n",
       "    </tr>\n",
       "  </tbody>\n",
       "</table>\n",
       "<p>133 rows × 1 columns</p>\n",
       "</div>"
      ],
      "text/plain": [
       "                0\n",
       "0    4.860257e+06\n",
       "1    6.581540e+02\n",
       "2    1.634600e+04\n",
       "3    6.173544e+05\n",
       "4    5.717748e+05\n",
       "..            ...\n",
       "128  5.425947e+05\n",
       "129  3.696474e+05\n",
       "130  5.486562e+05\n",
       "131  3.916465e+05\n",
       "132  1.913598e+12\n",
       "\n",
       "[133 rows x 1 columns]"
      ]
     },
     "execution_count": 105,
     "metadata": {},
     "output_type": "execute_result"
    }
   ],
   "source": [
    "pd.DataFrame(X_train.apply(sum))"
   ]
  },
  {
   "cell_type": "code",
   "execution_count": 161,
   "metadata": {},
   "outputs": [],
   "source": [
    "import pickle"
   ]
  },
  {
   "cell_type": "code",
   "execution_count": 189,
   "metadata": {},
   "outputs": [],
   "source": [
    "pickle.dump(clf, open('model.pkl', 'wb'))\n",
    "\n",
    "# some time later...\n",
    "\n",
    "# load the model from disk\n",
    "#loaded_model = pickle.load(open('model.pkl', 'rb')) "
   ]
  },
  {
   "cell_type": "code",
   "execution_count": 188,
   "metadata": {},
   "outputs": [],
   "source": [
    "pickle.dump(X_test.columns, open('feature_columns.pkl', 'wb'))\n"
   ]
  },
  {
   "cell_type": "code",
   "execution_count": 187,
   "metadata": {},
   "outputs": [
    {
     "data": {
      "text/plain": [
       "Index(['weight', 'feature_0', 'feature_1', 'feature_2', 'feature_3',\n",
       "       'feature_4', 'feature_5', 'feature_6', 'feature_7', 'feature_8',\n",
       "       ...\n",
       "       'feature_120', 'feature_121', 'feature_122', 'feature_123',\n",
       "       'feature_124', 'feature_125', 'feature_126', 'feature_127',\n",
       "       'feature_128', 'feature_129'],\n",
       "      dtype='object', length=131)"
      ]
     },
     "execution_count": 187,
     "metadata": {},
     "output_type": "execute_result"
    }
   ],
   "source": [
    "X_test.columns"
   ]
  },
  {
   "cell_type": "code",
   "execution_count": 177,
   "metadata": {},
   "outputs": [],
   "source": [
    "import xgboost as xgb"
   ]
  },
  {
   "cell_type": "code",
   "execution_count": 179,
   "metadata": {},
   "outputs": [],
   "source": [
    "dtrain = xgb.DMatrix(X_train, label=y_train)\n",
    "dtest = xgb.DMatrix(X_test, label=y_test)\n"
   ]
  },
  {
   "cell_type": "code",
   "execution_count": 180,
   "metadata": {},
   "outputs": [],
   "source": [
    "param = {'max_depth': 2, 'eta': 1, 'objective': 'reg:squarederror'}\n",
    "param['nthread'] = 4\n",
    "param['eval_metric'] = ['rmse']\n",
    "evallist = [(dtest, 'eval'), (dtrain, 'train')]\n"
   ]
  },
  {
   "cell_type": "code",
   "execution_count": 182,
   "metadata": {},
   "outputs": [
    {
     "name": "stdout",
     "output_type": "stream",
     "text": [
      "[0]\teval-rmse:0.02678\ttrain-rmse:0.02691\n",
      "[1]\teval-rmse:0.02675\ttrain-rmse:0.02688\n",
      "[2]\teval-rmse:0.02674\ttrain-rmse:0.02686\n",
      "[3]\teval-rmse:0.02671\ttrain-rmse:0.02684\n",
      "[4]\teval-rmse:0.02670\ttrain-rmse:0.02682\n",
      "[5]\teval-rmse:0.02668\ttrain-rmse:0.02680\n",
      "[6]\teval-rmse:0.02666\ttrain-rmse:0.02678\n",
      "[7]\teval-rmse:0.02665\ttrain-rmse:0.02677\n",
      "[8]\teval-rmse:0.02665\ttrain-rmse:0.02676\n",
      "[9]\teval-rmse:0.02665\ttrain-rmse:0.02676\n",
      "[10]\teval-rmse:0.02665\ttrain-rmse:0.02675\n",
      "[11]\teval-rmse:0.02664\ttrain-rmse:0.02675\n",
      "[12]\teval-rmse:0.02660\ttrain-rmse:0.02671\n",
      "[13]\teval-rmse:0.02660\ttrain-rmse:0.02670\n",
      "[14]\teval-rmse:0.02660\ttrain-rmse:0.02670\n",
      "[15]\teval-rmse:0.02659\ttrain-rmse:0.02669\n",
      "[16]\teval-rmse:0.02658\ttrain-rmse:0.02668\n",
      "[17]\teval-rmse:0.02657\ttrain-rmse:0.02667\n",
      "[18]\teval-rmse:0.02656\ttrain-rmse:0.02666\n",
      "[19]\teval-rmse:0.02655\ttrain-rmse:0.02665\n",
      "[20]\teval-rmse:0.02654\ttrain-rmse:0.02664\n",
      "[21]\teval-rmse:0.02654\ttrain-rmse:0.02664\n",
      "[22]\teval-rmse:0.02654\ttrain-rmse:0.02664\n",
      "[23]\teval-rmse:0.02654\ttrain-rmse:0.02663\n",
      "[24]\teval-rmse:0.02654\ttrain-rmse:0.02663\n",
      "[25]\teval-rmse:0.02654\ttrain-rmse:0.02662\n",
      "[26]\teval-rmse:0.02653\ttrain-rmse:0.02662\n",
      "[27]\teval-rmse:0.02653\ttrain-rmse:0.02661\n",
      "[28]\teval-rmse:0.02653\ttrain-rmse:0.02661\n",
      "[29]\teval-rmse:0.02652\ttrain-rmse:0.02660\n",
      "[30]\teval-rmse:0.02652\ttrain-rmse:0.02660\n",
      "[31]\teval-rmse:0.02652\ttrain-rmse:0.02660\n",
      "[32]\teval-rmse:0.02651\ttrain-rmse:0.02659\n",
      "[33]\teval-rmse:0.02651\ttrain-rmse:0.02658\n",
      "[34]\teval-rmse:0.02651\ttrain-rmse:0.02658\n",
      "[35]\teval-rmse:0.02650\ttrain-rmse:0.02657\n",
      "[36]\teval-rmse:0.02650\ttrain-rmse:0.02657\n",
      "[37]\teval-rmse:0.02650\ttrain-rmse:0.02656\n",
      "[38]\teval-rmse:0.02650\ttrain-rmse:0.02656\n",
      "[39]\teval-rmse:0.02649\ttrain-rmse:0.02655\n",
      "[40]\teval-rmse:0.02648\ttrain-rmse:0.02654\n",
      "[41]\teval-rmse:0.02648\ttrain-rmse:0.02654\n",
      "[42]\teval-rmse:0.02648\ttrain-rmse:0.02654\n",
      "[43]\teval-rmse:0.02647\ttrain-rmse:0.02653\n",
      "[44]\teval-rmse:0.02647\ttrain-rmse:0.02653\n",
      "[45]\teval-rmse:0.02647\ttrain-rmse:0.02652\n",
      "[46]\teval-rmse:0.02647\ttrain-rmse:0.02652\n",
      "[47]\teval-rmse:0.02646\ttrain-rmse:0.02651\n",
      "[48]\teval-rmse:0.02646\ttrain-rmse:0.02651\n",
      "[49]\teval-rmse:0.02646\ttrain-rmse:0.02651\n",
      "[50]\teval-rmse:0.02645\ttrain-rmse:0.02650\n",
      "[51]\teval-rmse:0.02645\ttrain-rmse:0.02650\n",
      "[52]\teval-rmse:0.02645\ttrain-rmse:0.02649\n",
      "[53]\teval-rmse:0.02645\ttrain-rmse:0.02649\n",
      "[54]\teval-rmse:0.02645\ttrain-rmse:0.02649\n",
      "[55]\teval-rmse:0.02644\ttrain-rmse:0.02648\n",
      "[56]\teval-rmse:0.02644\ttrain-rmse:0.02647\n",
      "[57]\teval-rmse:0.02644\ttrain-rmse:0.02647\n",
      "[58]\teval-rmse:0.02643\ttrain-rmse:0.02646\n",
      "[59]\teval-rmse:0.02643\ttrain-rmse:0.02646\n",
      "[60]\teval-rmse:0.02642\ttrain-rmse:0.02645\n",
      "[61]\teval-rmse:0.02642\ttrain-rmse:0.02644\n",
      "[62]\teval-rmse:0.02642\ttrain-rmse:0.02644\n",
      "[63]\teval-rmse:0.02642\ttrain-rmse:0.02644\n",
      "[64]\teval-rmse:0.02640\ttrain-rmse:0.02643\n",
      "[65]\teval-rmse:0.02640\ttrain-rmse:0.02642\n",
      "[66]\teval-rmse:0.02639\ttrain-rmse:0.02642\n",
      "[67]\teval-rmse:0.02639\ttrain-rmse:0.02642\n",
      "[68]\teval-rmse:0.02639\ttrain-rmse:0.02641\n",
      "[69]\teval-rmse:0.02638\ttrain-rmse:0.02641\n",
      "[70]\teval-rmse:0.02638\ttrain-rmse:0.02641\n",
      "[71]\teval-rmse:0.02638\ttrain-rmse:0.02640\n",
      "[72]\teval-rmse:0.02638\ttrain-rmse:0.02640\n",
      "[73]\teval-rmse:0.02638\ttrain-rmse:0.02640\n",
      "[74]\teval-rmse:0.02637\ttrain-rmse:0.02639\n",
      "[75]\teval-rmse:0.02637\ttrain-rmse:0.02639\n",
      "[76]\teval-rmse:0.02637\ttrain-rmse:0.02639\n",
      "[77]\teval-rmse:0.02637\ttrain-rmse:0.02638\n",
      "[78]\teval-rmse:0.02637\ttrain-rmse:0.02638\n",
      "[79]\teval-rmse:0.02637\ttrain-rmse:0.02638\n",
      "[80]\teval-rmse:0.02637\ttrain-rmse:0.02637\n",
      "[81]\teval-rmse:0.02636\ttrain-rmse:0.02637\n",
      "[82]\teval-rmse:0.02636\ttrain-rmse:0.02637\n",
      "[83]\teval-rmse:0.02635\ttrain-rmse:0.02636\n",
      "[84]\teval-rmse:0.02635\ttrain-rmse:0.02636\n",
      "[85]\teval-rmse:0.02635\ttrain-rmse:0.02636\n",
      "[86]\teval-rmse:0.02635\ttrain-rmse:0.02635\n",
      "[87]\teval-rmse:0.02635\ttrain-rmse:0.02635\n",
      "[88]\teval-rmse:0.02634\ttrain-rmse:0.02635\n",
      "[89]\teval-rmse:0.02634\ttrain-rmse:0.02634\n",
      "[90]\teval-rmse:0.02634\ttrain-rmse:0.02634\n",
      "[91]\teval-rmse:0.02634\ttrain-rmse:0.02634\n",
      "[92]\teval-rmse:0.02635\ttrain-rmse:0.02634\n",
      "[93]\teval-rmse:0.02634\ttrain-rmse:0.02633\n",
      "[94]\teval-rmse:0.02634\ttrain-rmse:0.02633\n",
      "[95]\teval-rmse:0.02634\ttrain-rmse:0.02633\n",
      "[96]\teval-rmse:0.02634\ttrain-rmse:0.02632\n",
      "[97]\teval-rmse:0.02634\ttrain-rmse:0.02632\n",
      "[98]\teval-rmse:0.02633\ttrain-rmse:0.02632\n",
      "[99]\teval-rmse:0.02633\ttrain-rmse:0.02631\n"
     ]
    }
   ],
   "source": [
    "num_round = 100\n",
    "bst = xgb.train(param, dtrain, num_round, evallist, early_stopping_rounds=10)"
   ]
  },
  {
   "cell_type": "code",
   "execution_count": 184,
   "metadata": {},
   "outputs": [],
   "source": [
    "y_pred = bst.predict(dtest, ntree_limit=bst.best_ntree_limit)"
   ]
  },
  {
   "cell_type": "code",
   "execution_count": 185,
   "metadata": {},
   "outputs": [
    {
     "data": {
      "text/plain": [
       "0.0061941502085202105"
      ]
     },
     "execution_count": 185,
     "metadata": {},
     "output_type": "execute_result"
    }
   ],
   "source": [
    "r2_score(y_test, y_pred)\n",
    "#mean_squared-"
   ]
  },
  {
   "cell_type": "code",
   "execution_count": 1,
   "metadata": {},
   "outputs": [],
   "source": [
    "#xgb.plot_tree(bst, num_trees=2)"
   ]
  },
  {
   "cell_type": "code",
   "execution_count": 2,
   "metadata": {},
   "outputs": [],
   "source": [
    "#xgb.to_graphviz(bst, num_trees=2)"
   ]
  },
  {
   "cell_type": "code",
   "execution_count": 195,
   "metadata": {},
   "outputs": [
    {
     "data": {
      "text/plain": [
       "<module 'xgboost' from '/opt/conda/lib/python3.8/site-packages/xgboost/__init__.py'>"
      ]
     },
     "execution_count": 195,
     "metadata": {},
     "output_type": "execute_result"
    }
   ],
   "source": [
    "xgb"
   ]
  },
  {
   "cell_type": "code",
   "execution_count": null,
   "metadata": {},
   "outputs": [],
   "source": []
  }
 ],
 "metadata": {
  "kernelspec": {
   "display_name": "Python 3",
   "language": "python",
   "name": "python3"
  },
  "language_info": {
   "codemirror_mode": {
    "name": "ipython",
    "version": 3
   },
   "file_extension": ".py",
   "mimetype": "text/x-python",
   "name": "python",
   "nbconvert_exporter": "python",
   "pygments_lexer": "ipython3",
   "version": "3.8.6"
  }
 },
 "nbformat": 4,
 "nbformat_minor": 4
}
